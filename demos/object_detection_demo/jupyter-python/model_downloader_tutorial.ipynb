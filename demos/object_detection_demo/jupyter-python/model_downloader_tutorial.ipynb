{
 "cells": [
  {
   "cell_type": "markdown",
   "id": "artificial-discretion",
   "metadata": {},
   "source": [
    "# Open Model Zoo Tools: Model Downloader, Converter and Info Dumper"
   ]
  },
  {
   "cell_type": "markdown",
   "id": "usual-karen",
   "metadata": {
    "tags": [
     "hide"
    ]
   },
   "source": [
    "This demo shows how to download models from Open Model Zoo and convert them to IR models. "
   ]
  },
  {
   "cell_type": "markdown",
   "id": "asian-planner",
   "metadata": {
    "tags": [
     "hide"
    ]
   },
   "source": [
    "\n",
    "The [Model Downloader](https://github.com/openvinotoolkit/open_model_zoo/blob/master/tools/downloader/README.md) downloads models from the Open Model Zoo.\n",
    "\n",
    "By default, the code in this notebook downloads all [Open Model Zoo](https://github.com/openvinotoolkit/open_model_zoo/) models with the specified precision. This allows you to run all demo's. You can change this by removing the `--all` option from the `downloader_command` and adding either a `--name` or a `--list` option. The `--name` option accepts wildcards. For example: to download all `bert` models, add `\"--name\"`, `\"bert*\"` to the `downloader_command`. The `--list` option is useful if you want to run a specific demo. All Open Model Zoo demos include a `models.lst` file that contains the models that are compatible with that demo. Add `\"--list\"`, `\"/path/to/models.lst\"` to only download models in that list. See the [Open Model Zoo Model Downloader documentation](https://github.com/openvinotoolkit/open_model_zoo/blob/master/tools/downloader/README.md) for more details.\n",
    "\n",
    "<div class=\"alert alert-info\" style=\"color:black\"><i>\n",
    "<b>Note: </b>It will take a while to download and convert all the models. If you have a slow internet connection or only want to download a subset of models, change the downloader_command and specify a specific model to download.</div> "
   ]
  },
  {
   "cell_type": "markdown",
   "id": "acknowledged-noise",
   "metadata": {
    "tags": [
     "hide"
    ]
   },
   "source": [
    "## Imports"
   ]
  },
  {
   "cell_type": "code",
   "execution_count": null,
   "id": "impressed-uncertainty",
   "metadata": {},
   "outputs": [],
   "source": [
    "import os.path\n",
    "import subprocess\n",
    "import sys\n",
    "\n",
    "from openvino.inference_engine import IECore"
   ]
  },
  {
   "cell_type": "markdown",
   "id": "parental-assets",
   "metadata": {
    "tags": [
     "hide"
    ]
   },
   "source": [
    "## Settings\n",
    "\n",
    "Set the file and directory paths. By default, this demo notebook downloads all models from the Open Model Zoo to a folder `open_model_zoo_models` in your `$HOME` directory. On Windows, the $HOME directory is usually `c:\\users\\username`, on Linux `/home/username`.  If you want to change the folder, change `base_model_dir`. The Model Converter converts OMZ models that are not in IR format to this format. \n",
    "\n",
    "You can change the following settings:\n",
    "\n",
    "* `base_model_dir`: Models will be downloaded into the `intel` and `public` folders in this directory\n",
    "* `omz_cache_dir`: Cache folder for Open Model Zoo. \n",
    "* `precision`: If specified, download only models with this precision. For inference on CPU, FP16 and FP32 gives the same result.\n"
   ]
  },
  {
   "cell_type": "code",
   "execution_count": null,
   "id": "korean-agency",
   "metadata": {},
   "outputs": [],
   "source": [
    "open_model_zoo_path = os.path.dirname(\n",
    "    os.path.dirname(os.path.dirname(os.path.dirname(os.path.dirname(os.path.abspath(os.curdir)))))\n",
    ")\n",
    "\n",
    "base_model_dir = os.path.expanduser(\"~/open_model_zoo_models\")\n",
    "omz_cache_dir = os.path.expanduser(\"~/open_model_zoo_cache\")\n",
    "precision = \"FP16\""
   ]
  },
  {
   "cell_type": "markdown",
   "id": "judicial-preview",
   "metadata": {},
   "source": [
    "## Download models from Open Model Zoo\n",
    "\n"
   ]
  },
  {
   "cell_type": "markdown",
   "id": "rising-interval",
   "metadata": {},
   "source": [
    "Specify and display the Model Downloader command to run"
   ]
  },
  {
   "cell_type": "code",
   "execution_count": null,
   "id": "protective-clear",
   "metadata": {},
   "outputs": [],
   "source": [
    "model_downloader = os.path.join(open_model_zoo_path, \"tools\", \"downloader\", \"downloader.py\")\n",
    "downloader_command = [\n",
    "    \"python\",\n",
    "    model_downloader,\n",
    "    \"--output_dir\",\n",
    "    base_model_dir,\n",
    "    \"--jobs\",\n",
    "    \"4\",\n",
    "    \"--cache_dir\",\n",
    "    omz_cache_dir,\n",
    "    \"--precision\",\n",
    "    precision,\n",
    "    \"--all\",\n",
    "]\n",
    "\n",
    "print(f\"Start downloading models with the following command: \\n{' '.join(downloader_command)}\")\n",
    "\n",
    "download_result = subprocess.run(\n",
    "    downloader_command,\n",
    "    shell=False,\n",
    "    check=True,\n",
    "    stdout=subprocess.PIPE,\n",
    "    stderr=subprocess.PIPE,\n",
    "    text=True,\n",
    ")\n",
    "if download_result.returncode == 0:\n",
    "    print(\"Downloading models succeeded. \")\n",
    "else:\n",
    "    print(f\"Downloading models failed. The error message is: {download_result.stderr}\")"
   ]
  },
  {
   "cell_type": "markdown",
   "id": "proprietary-checklist",
   "metadata": {},
   "source": [
    "## Convert models to OpenVINO IR format\n",
    "\n",
    "The Model Converter converts Open Model Zoo models to IR format. Models that were originally in that format are ignored. Like the Model Downloader, the Model Converter also supports `--all`, `--name` and `--list` options to specify which models to convert, and `--precisions` to specify that only models with that precision must be converted. Depending on how OpenVINO is installed, it may be necessary to add the path to the Model Optimizer. This can be done with the `--mo` option"
   ]
  },
  {
   "cell_type": "code",
   "execution_count": null,
   "id": "engaged-academy",
   "metadata": {},
   "outputs": [],
   "source": [
    "# The code in this cell sets the model_optimizer_path if OpenVINO was installed with default settings. Adjust this if necessary.\n",
    "if sys.platform.startswith(\"win\"):\n",
    "    model_optimizer_path = (\n",
    "        r\"C:\\Program Files (x86)\\intel\\openvino_2021\\deployment_tools\\model_optimizer\\mo.py\"  # Windows\n",
    "    )\n",
    "else:\n",
    "    model_optimizer_path = \"/opt/intel/openvino_2021/deployment_tools/model_optimizer/mo.py\"  # Linux/MacOS"
   ]
  },
  {
   "cell_type": "code",
   "execution_count": null,
   "id": "double-european",
   "metadata": {},
   "outputs": [],
   "source": [
    "model_converter = os.path.join(open_model_zoo_path, \"tools\", \"downloader\", \"converter.py\")\n",
    "converter_command = [\n",
    "    \"python\",\n",
    "    model_converter,\n",
    "    \"--download_dir\",\n",
    "    base_model_dir,\n",
    "    \"--precisions\",\n",
    "    precision,\n",
    "    \"--mo\",\n",
    "    model_optimizer_path,\n",
    "    \"--jobs\",\n",
    "    \"6\",\n",
    "    \"--all\",\n",
    "]\n",
    "\n",
    "print(f\"Start converting models with the following command: \\n{' '.join(converter_command)}\")\n",
    "\n",
    "\n",
    "converter_result = subprocess.run(\n",
    "    converter_command,\n",
    "#     stdout=subprocess.PIPE,\n",
    "#     stderr=subprocess.PIPE,\n",
    "#     capture_output=False,\n",
    "    shell=False,\n",
    ")\n",
    "if converter_result.returncode == 0:\n",
    "    print(\"Converting models succeeded.\")\n",
    "else:\n",
    "    print(\n",
    "        f\"There were some error messages while converting the models. Check `converter_result.stderr` for more details.\"\n",
    "    )"
   ]
  },
  {
   "cell_type": "markdown",
   "id": "respected-hungarian",
   "metadata": {},
   "source": [
    "## Get model info\n",
    "\n",
    "The Info Dumper returns information for the Open Model Zoo models. It returns a list of dictionaries with per model:\n",
    "\n",
    "* model name\n",
    "* description\n",
    "* framework that was used to train the model\n",
    "* license url\n",
    "* precisions supported by the model\n",
    "* subdirectory: the location of the downloaded model\n",
    "* task type"
   ]
  },
  {
   "cell_type": "code",
   "execution_count": null,
   "id": "right-survival",
   "metadata": {},
   "outputs": [],
   "source": [
    "info_command = os.path.join(open_model_zoo_path, \"tools\", \"downloader\", \"info_dumper.py\")\n",
    "info_result = subprocess.run(\n",
    "    [\n",
    "        \"python\",\n",
    "        info_command,\n",
    "        \"--list\",\n",
    "        \"models.lst\",\n",
    "        #            \"--mo\",\n",
    "        #            \"/opt/intel/openvino_2021.2.200/deployment_tools/model_optimizer/mo.py\",\n",
    "    ],\n",
    "    stdout=subprocess.PIPE,\n",
    "    stderr=subprocess.PIPE,\n",
    "    capture_output=False,\n",
    "    shell=False,\n",
    "    text=True,\n",
    ")\n",
    "info = json.loads(info_result.stdout)\n",
    "modelnames = [model[\"name\"] for model in info]\n",
    "\n",
    "info[0]"
   ]
  }
 ],
 "metadata": {
  "kernelspec": {
   "display_name": "ov",
   "language": "python",
   "name": "ov"
  },
  "language_info": {
   "codemirror_mode": {
    "name": "ipython",
    "version": 3
   },
   "file_extension": ".py",
   "mimetype": "text/x-python",
   "name": "python",
   "nbconvert_exporter": "python",
   "pygments_lexer": "ipython3",
   "version": "3.7.6"
  }
 },
 "nbformat": 4,
 "nbformat_minor": 5
}
